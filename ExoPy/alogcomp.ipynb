{
 "cells": [
  {
   "cell_type": "code",
   "execution_count": 4,
   "metadata": {},
   "outputs": [
    {
     "name": "stdout",
     "output_type": "stream",
     "text": [
      "Entrez votre nombre : 5\n",
      "1\n"
     ]
    }
   ],
   "source": [
    "a = input(\"Entrez votre nombre : \")\n",
    "a = int(a)\n",
    "b = 0\n",
    "if a < 10:\n",
    "    b = 1\n",
    "else:\n",
    "    b = 0\n",
    "print(b)"
   ]
  },
  {
   "cell_type": "code",
   "execution_count": 6,
   "metadata": {},
   "outputs": [
    {
     "name": "stdout",
     "output_type": "stream",
     "text": [
      "Entrez votre nombre : 1\n",
      "10\n"
     ]
    }
   ],
   "source": [
    "a = input(\"Entrez votre nombre : \")\n",
    "a = int(a)\n",
    "b = 0\n",
    "if a < 10:\n",
    "    b = 10\n",
    "else:\n",
    "    False\n",
    "print(b)"
   ]
  },
  {
   "cell_type": "code",
   "execution_count": 21,
   "metadata": {},
   "outputs": [
    {
     "name": "stdout",
     "output_type": "stream",
     "text": [
      "10 10\n"
     ]
    }
   ],
   "source": [
    "b = 0\n",
    "a = 0\n",
    "while a == b:\n",
    "    if a < 10:\n",
    "        b = b + 1\n",
    "        a = b \n",
    "    else:\n",
    "        break\n",
    "print(a, b)"
   ]
  },
  {
   "cell_type": "code",
   "execution_count": 11,
   "metadata": {},
   "outputs": [
    {
     "name": "stdout",
     "output_type": "stream",
     "text": [
      "Entrez votre nombre : 800\n",
      "Entrez votre nombre : 4\n",
      "402 402\n"
     ]
    }
   ],
   "source": [
    "y = input(\"Entrez votre nombre : \")\n",
    "c = input(\"Entrez votre nombre : \")\n",
    "c = int(c)\n",
    "y = int(y)\n",
    "while c != y :\n",
    "    if c % 2 == y % 2 and y > c :\n",
    "        c = c+1\n",
    "        y = y-1\n",
    "    else:\n",
    "        break\n",
    "print(c,y)"
   ]
  },
  {
   "cell_type": "code",
   "execution_count": null,
   "metadata": {},
   "outputs": [],
   "source": []
  }
 ],
 "metadata": {
  "kernelspec": {
   "display_name": "Python 3",
   "language": "python",
   "name": "python3"
  },
  "language_info": {
   "codemirror_mode": {
    "name": "ipython",
    "version": 3
   },
   "file_extension": ".py",
   "mimetype": "text/x-python",
   "name": "python",
   "nbconvert_exporter": "python",
   "pygments_lexer": "ipython3",
   "version": "3.6.5"
  }
 },
 "nbformat": 4,
 "nbformat_minor": 2
}
